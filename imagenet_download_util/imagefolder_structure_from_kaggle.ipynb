{
 "cells": [
  {
   "cell_type": "markdown",
   "metadata": {},
   "source": [
    "# Structure ImageNet (Kaggle Download) into ImageFolder structure.\n",
    "This script reorganizes ImageNet images and annotations into the Pytorch Dataset ImageFolder file structure.\n",
    "\n",
    "Note: This script is for images downloaded from [Kaggle](https://www.kaggle.com/c/imagenet-object-localization-challenge/overview/description). For ImageNet downloaded from the [ImageNet website](https://www.image-net.org/index.php) see [`imagefolder_structure_from_imagenet.ipynb`](https://github.com/mitvis/shared-interest/blob/main/imagenet_download_util/imagefolder_structure_from_imagenet.ipynb).\n",
    "\n",
    "Shared Interest is built on Pytorch. Pytorch has a class of functions called Datasets that handle loading data from disk. To load images and their bounding boxes, Shared Interest extends the Pytorch [ImageFolder Dataset](https://pytorch.org/vision/stable/generated/torchvision.datasets.ImageFolder.html). ImageFolder requires images to be in a specific file structure. In order to use the data, this script reorganizes the images and annotations, so the file structure is compatable with Pytorch ImageFolder.\n",
    "\n",
    "After running this script, your `imagenet` directory will be formatted as follows:\n",
    "```\n",
    "imagenet\n",
    "|\n",
    "|---val/\n",
    "|   |---images/\n",
    "|       |---0000/\n",
    "|           |---ILSVRC2012_val_<imageid0>.jpeg\n",
    "|           |---ILSVRC2012_val_<imageid1>.jpeg\n",
    "|           |...\n",
    "|       |...\n",
    "|       |---0999/\n",
    "|   |---annotations/\n",
    "|       |---0000/\n",
    "|           |---ILSVRC2012_val_<imageid0>.xml\n",
    "|           |---ILSVRC2012_val_<imageid1>.xml\n",
    "|           |...\n",
    "|       |...\n",
    "|       |---0999/\n",
    "\n",
    "```\n"
   ]
  },
  {
   "cell_type": "code",
   "execution_count": 1,
   "metadata": {},
   "outputs": [],
   "source": [
    "import numpy as np\n",
    "import os\n",
    "from tqdm import tqdm"
   ]
  },
  {
   "cell_type": "markdown",
   "metadata": {},
   "source": [
    "## Step 0: Download the ImageNet validation set\n",
    "ImageNet is a large image classification dataset that contains natural images (i.e., photos) labeled as one of 1000 classes. Every image in the validation set contains object-level bounding boxes highlighting the labeled object. Shared Interest uses the bounding boxes as human annotations, so we will focus on the validation set.\n",
    "\n",
    "Download ImageNet from [Kaggle](https://www.kaggle.com/competitions/imagenet-object-localization-challenge/data). \n",
    "\n",
    "Add the path to your ImageNet data to `imagenet_directory` below."
   ]
  },
  {
   "cell_type": "code",
   "execution_count": 12,
   "metadata": {},
   "outputs": [],
   "source": [
    "kaggle_imagenet_directory = '/nobackup/users/aboggust/data/imagenet_kaggle' #TODO: Add path to your base directory\n",
    "kaggle_image_directory = os.path.join(kaggle_imagenet_directory, 'ILSVRC', 'Data', 'CLS-LOC')\n",
    "kaggle_annotation_directory = os.path.join(kaggle_imagenet_directory, 'ILSVRC', 'Annotations', 'CLS-LOC')"
   ]
  },
  {
   "cell_type": "markdown",
   "metadata": {},
   "source": [
    "This file also uses the [validation labels](https://github.com/mitvis/shared-interest/blob/main/imagenet_download_util/validation_labels.txt) available in the Shared Interest repo. Note: the ImageNet labels in the development kit refers to the caffe labels and are not the same as the ImageNet labeling system."
   ]
  },
  {
   "cell_type": "code",
   "execution_count": 3,
   "metadata": {},
   "outputs": [],
   "source": [
    "labels_filename = os.path.join(kaggle_imagenet_directory, 'validation_labels.txt')\n",
    "assert os.path.isfile(labels_filename), \"Missing validation labels. Download from Shared Interest repo.\""
   ]
  },
  {
   "cell_type": "markdown",
   "metadata": {},
   "source": [
    "Shared Interest uses the ImageNet Validation set because all 50K images have corresponding object-level bounding box annotations. This script focuses on the validation split."
   ]
  },
  {
   "cell_type": "code",
   "execution_count": 4,
   "metadata": {},
   "outputs": [],
   "source": [
    "split = 'val'"
   ]
  },
  {
   "cell_type": "markdown",
   "metadata": {},
   "source": [
    "## Step 1: Build the file structure"
   ]
  },
  {
   "cell_type": "code",
   "execution_count": 5,
   "metadata": {},
   "outputs": [],
   "source": [
    "def make_directory(directory):\n",
    "    \"\"\" Makes directory if it does not already exist.\"\"\"\n",
    "    if not os.path.isdir(directory):\n",
    "        os.mkdir(directory)\n",
    "        \n",
    "def make_subdirectories(directory, subdirectory_names):\n",
    "    \"\"\"Makes a folder directory/name/ for every name in subdirectory names.\"\"\"\n",
    "    for name in subdirectory_names:\n",
    "        make_directory(os.path.join(directory, name))"
   ]
  },
  {
   "cell_type": "code",
   "execution_count": 6,
   "metadata": {},
   "outputs": [],
   "source": [
    "# Make a folder within the kaggle_imagenet_directory named split\n",
    "split_directory = os.path.join(kaggle_imagenet_directory, split)\n",
    "make_directory(split_directory)"
   ]
  },
  {
   "cell_type": "code",
   "execution_count": 7,
   "metadata": {},
   "outputs": [],
   "source": [
    "# Create an image folder and annotation folder within the split_directory\n",
    "image_directory = os.path.join(split_directory, 'images')\n",
    "make_directory(image_directory)\n",
    "\n",
    "annotation_directory = os.path.join(split_directory, 'annotations')\n",
    "make_directory(annotation_directory)\n",
    "\n",
    "image_extension = 'JPEG'\n",
    "annotation_extension = 'xml'"
   ]
  },
  {
   "cell_type": "markdown",
   "metadata": {},
   "source": [
    "## Step 2: Make a directory for each of the ImageNet classes"
   ]
  },
  {
   "cell_type": "code",
   "execution_count": 8,
   "metadata": {},
   "outputs": [
    {
     "name": "stdout",
     "output_type": "stream",
     "text": [
      "Found 1000 labels and 50000 images.\n",
      "Example labels: ['0000' '0001' '0002' '0003' '0004']\n",
      "First label is: 0065\n"
     ]
    }
   ],
   "source": [
    "# Load the image labels from the ImageNet development kit information.\n",
    "# image_labels is a list of strings representing the label for each image.\n",
    "# image_labels[i] is the label for image dataset[i]\n",
    "with open(labels_filename, 'r') as f:\n",
    "    image_labels = ['%04d' %int(line.strip()) for line in f.readlines()]\n",
    "print('Found %i labels and %i images.' %(len(np.unique(image_labels)), len(image_labels)))\n",
    "print('Example labels:', np.unique(image_labels)[0:5])\n",
    "print('First label is: %s' %(image_labels[0]))"
   ]
  },
  {
   "cell_type": "code",
   "execution_count": 9,
   "metadata": {},
   "outputs": [],
   "source": [
    "# Make a directory for each class within `images` and `annotations`\n",
    "make_subdirectories(image_directory, np.unique(image_labels))\n",
    "make_subdirectories(annotation_directory, np.unique(image_labels))"
   ]
  },
  {
   "cell_type": "markdown",
   "metadata": {},
   "source": [
    "## Step 3: Move the images and annotations into their directories"
   ]
  },
  {
   "cell_type": "code",
   "execution_count": 10,
   "metadata": {},
   "outputs": [
    {
     "name": "stderr",
     "output_type": "stream",
     "text": [
      "100%|██████████| 50000/50000 [01:32<00:00, 542.83it/s]\n"
     ]
    }
   ],
   "source": [
    "# Move the images into their directories\n",
    "for index, label in enumerate(tqdm(image_labels)):\n",
    "    name = 'ILSVRC2012_%s_%08d.%s' %(split, index+1, image_extension)\n",
    "    source = os.path.join(kaggle_image_directory, split, name)\n",
    "    destination = os.path.join(image_directory, label, name)\n",
    "    os.rename(source, destination)"
   ]
  },
  {
   "cell_type": "code",
   "execution_count": 13,
   "metadata": {},
   "outputs": [
    {
     "name": "stderr",
     "output_type": "stream",
     "text": [
      "100%|██████████| 50000/50000 [00:32<00:00, 1561.96it/s]\n"
     ]
    }
   ],
   "source": [
    "# Move the annotations into their directories\n",
    "for index, label in enumerate(tqdm(image_labels)):\n",
    "    name = 'ILSVRC2012_%s_%08d.%s' %(split, index+1, annotation_extension)\n",
    "    source = os.path.join(kaggle_annotation_directory, split, name)\n",
    "    destination = os.path.join(annotation_directory, label, name)\n",
    "    os.rename(source, destination)"
   ]
  },
  {
   "cell_type": "code",
   "execution_count": null,
   "metadata": {},
   "outputs": [],
   "source": []
  }
 ],
 "metadata": {
  "kernelspec": {
   "display_name": "Python 3",
   "language": "python",
   "name": "python3"
  },
  "language_info": {
   "codemirror_mode": {
    "name": "ipython",
    "version": 3
   },
   "file_extension": ".py",
   "mimetype": "text/x-python",
   "name": "python",
   "nbconvert_exporter": "python",
   "pygments_lexer": "ipython3",
   "version": "3.6.12"
  }
 },
 "nbformat": 4,
 "nbformat_minor": 4
}
